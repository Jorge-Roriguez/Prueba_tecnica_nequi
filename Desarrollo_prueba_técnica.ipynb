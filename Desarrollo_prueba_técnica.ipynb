{
 "cells": [
  {
   "cell_type": "markdown",
   "metadata": {},
   "source": [
    "# Prueba técnica - Científico de datos "
   ]
  },
  {
   "cell_type": "markdown",
   "metadata": {},
   "source": [
    "## Objetivo:"
   ]
  },
  {
   "cell_type": "markdown",
   "metadata": {},
   "source": [
    "Idear una solución para identificar transacciones que evidencian un comportamiento de Mala Práctica Transaccional, empleando un producto de datos."
   ]
  },
  {
   "cell_type": "markdown",
   "metadata": {},
   "source": [
    "## EDA - Exploración de datos para detectar fraccionamiento transaccional"
   ]
  },
  {
   "cell_type": "code",
   "execution_count": null,
   "metadata": {},
   "outputs": [],
   "source": [
    "# Librerías necesarias para la exploración de datos\n",
    "import pandas as pd\n",
    "import numpy as np\n",
    "import seaborn as sns\n",
    "import matplotlib.pyplot as plt\n",
    "\n",
    "# Ajuste formato visualización de números\n",
    "pd.set_option('display.float_format', lambda x: '%.2f' % x) "
   ]
  },
  {
   "cell_type": "code",
   "execution_count": null,
   "metadata": {},
   "outputs": [],
   "source": [
    "# Cargar los datos\n",
    "df = pd.read_parquet(r\"C:\\Users\\jorge\\Downloads\\Prueba_Nequi\\sample_data_0006_part_00.parquet\")"
   ]
  },
  {
   "cell_type": "code",
   "execution_count": 12,
   "metadata": {},
   "outputs": [
    {
     "data": {
      "text/html": [
       "<div>\n",
       "<style scoped>\n",
       "    .dataframe tbody tr th:only-of-type {\n",
       "        vertical-align: middle;\n",
       "    }\n",
       "\n",
       "    .dataframe tbody tr th {\n",
       "        vertical-align: top;\n",
       "    }\n",
       "\n",
       "    .dataframe thead th {\n",
       "        text-align: right;\n",
       "    }\n",
       "</style>\n",
       "<table border=\"1\" class=\"dataframe\">\n",
       "  <thead>\n",
       "    <tr style=\"text-align: right;\">\n",
       "      <th></th>\n",
       "      <th>merchant_id</th>\n",
       "      <th>_id</th>\n",
       "      <th>subsidiary</th>\n",
       "      <th>transaction_date</th>\n",
       "      <th>account_number</th>\n",
       "      <th>user_id</th>\n",
       "      <th>transaction_amount</th>\n",
       "      <th>transaction_type</th>\n",
       "    </tr>\n",
       "  </thead>\n",
       "  <tbody>\n",
       "    <tr>\n",
       "      <th>0</th>\n",
       "      <td>075d178871d8d48502bf1f54887e52fe</td>\n",
       "      <td>aa8dacff663072244d0a8ab6bbe36b93</td>\n",
       "      <td>824b2af470cbe6a65b15650e03b740fc</td>\n",
       "      <td>2021-09-12 18:32:03</td>\n",
       "      <td>648e257c9d74909a1f61c54b93a9e1b3</td>\n",
       "      <td>ba42d192a145583ba8e7bf04875f837f</td>\n",
       "      <td>178.33365037</td>\n",
       "      <td>CREDITO</td>\n",
       "    </tr>\n",
       "    <tr>\n",
       "      <th>1</th>\n",
       "      <td>075d178871d8d48502bf1f54887e52fe</td>\n",
       "      <td>a53bb81bd0bba2ae2535bda7ea5a550c</td>\n",
       "      <td>2d8d34be7509a6b1262336d036fdb324</td>\n",
       "      <td>2021-09-12 18:31:58</td>\n",
       "      <td>c0b62f9046c83ea5543ea46a497a4d6e</td>\n",
       "      <td>5cfff960ea6d732c1ba3e63d24f3be52</td>\n",
       "      <td>35.66673007</td>\n",
       "      <td>CREDITO</td>\n",
       "    </tr>\n",
       "    <tr>\n",
       "      <th>2</th>\n",
       "      <td>075d178871d8d48502bf1f54887e52fe</td>\n",
       "      <td>79f893ea65c06fe2933f3847c88c272f</td>\n",
       "      <td>5eeb18254850b21af0a6bb2697913cd3</td>\n",
       "      <td>2021-09-12 18:31:56</td>\n",
       "      <td>872d10143fc0ac7d5de467806f6bef81</td>\n",
       "      <td>c97e63a92c82c7217b333635d75928ed</td>\n",
       "      <td>142.66692029</td>\n",
       "      <td>CREDITO</td>\n",
       "    </tr>\n",
       "    <tr>\n",
       "      <th>3</th>\n",
       "      <td>075d178871d8d48502bf1f54887e52fe</td>\n",
       "      <td>ce577223699dbdc119df2ab8a35457fe</td>\n",
       "      <td>5221a599856c0a0588ed9ffd150edd3b</td>\n",
       "      <td>2021-09-12 18:31:10</td>\n",
       "      <td>2e35cfe7860a480a93e1c83e99843579</td>\n",
       "      <td>fc09bdd00f283222d65eaff4d00a6594</td>\n",
       "      <td>8.32223701</td>\n",
       "      <td>CREDITO</td>\n",
       "    </tr>\n",
       "    <tr>\n",
       "      <th>4</th>\n",
       "      <td>075d178871d8d48502bf1f54887e52fe</td>\n",
       "      <td>0ce7ab2950e7a788a608f881aec0f8f0</td>\n",
       "      <td>971e55ef12d80ec070ea4f6750c8b892</td>\n",
       "      <td>2021-09-12 18:31:07</td>\n",
       "      <td>995bc89e4c4e00334f1f90c4a55f4729</td>\n",
       "      <td>213527e8ba94fcaf2f9378969f9f6abc</td>\n",
       "      <td>32.10005706</td>\n",
       "      <td>CREDITO</td>\n",
       "    </tr>\n",
       "    <tr>\n",
       "      <th>5</th>\n",
       "      <td>075d178871d8d48502bf1f54887e52fe</td>\n",
       "      <td>01220d4c4ed48cfd6f7ca5f278f9a6f6</td>\n",
       "      <td>76aca4525838053ca0d5ba8e37f1ffe8</td>\n",
       "      <td>2021-09-12 18:31:06</td>\n",
       "      <td>a32395153b2dc1383304bd2c33990a78</td>\n",
       "      <td>d1022ab075c2a2cf681398670d2bf8a1</td>\n",
       "      <td>59.44455012</td>\n",
       "      <td>CREDITO</td>\n",
       "    </tr>\n",
       "    <tr>\n",
       "      <th>6</th>\n",
       "      <td>075d178871d8d48502bf1f54887e52fe</td>\n",
       "      <td>f02cabf07366d25120c9b2e7019a4205</td>\n",
       "      <td>6b102b2df10e986bd97b1b5713be0843</td>\n",
       "      <td>2021-09-12 18:30:55</td>\n",
       "      <td>2dd7afef1abfbfbbb68b6a31df70fc91</td>\n",
       "      <td>d6b9f3858016e0581e006ad574e23c6c</td>\n",
       "      <td>11.88891002</td>\n",
       "      <td>CREDITO</td>\n",
       "    </tr>\n",
       "  </tbody>\n",
       "</table>\n",
       "</div>"
      ],
      "text/plain": [
       "                        merchant_id                               _id  \\\n",
       "0  075d178871d8d48502bf1f54887e52fe  aa8dacff663072244d0a8ab6bbe36b93   \n",
       "1  075d178871d8d48502bf1f54887e52fe  a53bb81bd0bba2ae2535bda7ea5a550c   \n",
       "2  075d178871d8d48502bf1f54887e52fe  79f893ea65c06fe2933f3847c88c272f   \n",
       "3  075d178871d8d48502bf1f54887e52fe  ce577223699dbdc119df2ab8a35457fe   \n",
       "4  075d178871d8d48502bf1f54887e52fe  0ce7ab2950e7a788a608f881aec0f8f0   \n",
       "5  075d178871d8d48502bf1f54887e52fe  01220d4c4ed48cfd6f7ca5f278f9a6f6   \n",
       "6  075d178871d8d48502bf1f54887e52fe  f02cabf07366d25120c9b2e7019a4205   \n",
       "\n",
       "                         subsidiary    transaction_date  \\\n",
       "0  824b2af470cbe6a65b15650e03b740fc 2021-09-12 18:32:03   \n",
       "1  2d8d34be7509a6b1262336d036fdb324 2021-09-12 18:31:58   \n",
       "2  5eeb18254850b21af0a6bb2697913cd3 2021-09-12 18:31:56   \n",
       "3  5221a599856c0a0588ed9ffd150edd3b 2021-09-12 18:31:10   \n",
       "4  971e55ef12d80ec070ea4f6750c8b892 2021-09-12 18:31:07   \n",
       "5  76aca4525838053ca0d5ba8e37f1ffe8 2021-09-12 18:31:06   \n",
       "6  6b102b2df10e986bd97b1b5713be0843 2021-09-12 18:30:55   \n",
       "\n",
       "                     account_number                           user_id  \\\n",
       "0  648e257c9d74909a1f61c54b93a9e1b3  ba42d192a145583ba8e7bf04875f837f   \n",
       "1  c0b62f9046c83ea5543ea46a497a4d6e  5cfff960ea6d732c1ba3e63d24f3be52   \n",
       "2  872d10143fc0ac7d5de467806f6bef81  c97e63a92c82c7217b333635d75928ed   \n",
       "3  2e35cfe7860a480a93e1c83e99843579  fc09bdd00f283222d65eaff4d00a6594   \n",
       "4  995bc89e4c4e00334f1f90c4a55f4729  213527e8ba94fcaf2f9378969f9f6abc   \n",
       "5  a32395153b2dc1383304bd2c33990a78  d1022ab075c2a2cf681398670d2bf8a1   \n",
       "6  2dd7afef1abfbfbbb68b6a31df70fc91  d6b9f3858016e0581e006ad574e23c6c   \n",
       "\n",
       "  transaction_amount transaction_type  \n",
       "0       178.33365037          CREDITO  \n",
       "1        35.66673007          CREDITO  \n",
       "2       142.66692029          CREDITO  \n",
       "3         8.32223701          CREDITO  \n",
       "4        32.10005706          CREDITO  \n",
       "5        59.44455012          CREDITO  \n",
       "6        11.88891002          CREDITO  "
      ]
     },
     "execution_count": 12,
     "metadata": {},
     "output_type": "execute_result"
    }
   ],
   "source": [
    "# Previsualización de los datos\n",
    "df.head(7)"
   ]
  },
  {
   "cell_type": "code",
   "execution_count": 17,
   "metadata": {},
   "outputs": [
    {
     "name": "stdout",
     "output_type": "stream",
     "text": [
      "Shape: (10758418, 8)\n",
      "Columnas: ['merchant_id', '_id', 'subsidiary', 'transaction_date', 'account_number', 'user_id', 'transaction_amount', 'transaction_type']\n",
      "\n",
      "Tipos de datos:\n",
      "merchant_id                   object\n",
      "_id                           object\n",
      "subsidiary                    object\n",
      "transaction_date      datetime64[ns]\n",
      "account_number                object\n",
      "user_id                       object\n",
      "transaction_amount           float64\n",
      "transaction_type              object\n",
      "dtype: object\n"
     ]
    }
   ],
   "source": [
    "# Información general de los datos\n",
    "print(\"Shape:\", df.shape)\n",
    "print(\"Columnas:\", df.columns.tolist())\n",
    "print(\"\\nTipos de datos:\")\n",
    "print(df.dtypes)"
   ]
  },
  {
   "cell_type": "code",
   "execution_count": 16,
   "metadata": {},
   "outputs": [],
   "source": [
    "# Convertimos el tipo de dato de la variable monto transaccional\n",
    "df['transaction_amount'] = pd.to_numeric(df['transaction_amount'])"
   ]
  },
  {
   "cell_type": "code",
   "execution_count": 18,
   "metadata": {},
   "outputs": [
    {
     "name": "stdout",
     "output_type": "stream",
     "text": [
      "\n",
      "Valores nulos por columna:\n",
      "merchant_id           0\n",
      "_id                   0\n",
      "subsidiary            0\n",
      "transaction_date      0\n",
      "account_number        0\n",
      "user_id               0\n",
      "transaction_amount    0\n",
      "transaction_type      0\n",
      "dtype: int64\n"
     ]
    }
   ],
   "source": [
    "# Verificación nulidad en los datos\n",
    "print(\"\\nValores nulos por columna:\")\n",
    "print(df.isnull().sum())"
   ]
  },
  {
   "cell_type": "code",
   "execution_count": 21,
   "metadata": {},
   "outputs": [
    {
     "name": "stdout",
     "output_type": "stream",
     "text": [
      "\n",
      "Resumen estadístico del monto:\n",
      "count   10758418.00\n",
      "mean         191.40\n",
      "std          240.86\n",
      "min            5.94\n",
      "25%           35.67\n",
      "50%          107.00\n",
      "75%          237.78\n",
      "max         4624.79\n",
      "Name: transaction_amount, dtype: float64\n"
     ]
    }
   ],
   "source": [
    "# Estadísticas descriptivas\n",
    "print(\"\\nResumen estadístico del monto:\")\n",
    "print(df['transaction_amount'].describe())"
   ]
  },
  {
   "cell_type": "code",
   "execution_count": 22,
   "metadata": {},
   "outputs": [
    {
     "data": {
      "image/png": "[encoded data removed]",
      "text/plain": [
       "<Figure size 640x480 with 1 Axes>"
      ]
     },
     "metadata": {},
     "output_type": "display_data"
    }
   ],
   "source": [
    "# Distribución del monto\n",
    "sns.histplot(df['transaction_amount'], bins=100, kde=True)\n",
    "plt.title(\"Distribución de montos de transacción\")\n",
    "plt.xlabel(\"Monto\")\n",
    "plt.ylabel(\"Frecuencia\")\n",
    "plt.show()"
   ]
  },
  {
   "cell_type": "code",
   "execution_count": 24,
   "metadata": {},
   "outputs": [
    {
     "name": "stdout",
     "output_type": "stream",
     "text": [
      "\n",
      "Ejemplo de transacciones por usuario por día:\n",
      "                                  user_id       fecha  num_txns  suma_montos  \\\n",
      "4083567  71aa1651d9adc0b226107084fba3d71c  2021-02-07       288      6018.29   \n",
      "8161081  e2d6158cc2b6467a47223cb2629f03f3  2021-02-02       201      1347.25   \n",
      "97728    02bb2479b4fe6c8119254eaacc88ba7e  2021-01-22       200      1223.23   \n",
      "9088288  fc794dabb3afc434e73ce67e6b9542e4  2021-02-08       200      1188.99   \n",
      "8985883  f9a10e0f56a96d244feadda0194fcb06  2021-02-02       200      1188.89   \n",
      "\n",
      "         promedio  desviacion  \n",
      "4083567     20.90       44.25  \n",
      "8161081      6.70        7.66  \n",
      "97728        6.12        1.36  \n",
      "9088288      5.94        0.01  \n",
      "8985883      5.94        0.00  \n"
     ]
    }
   ],
   "source": [
    "# Analizar transacciones por usuario por día\n",
    "df['fecha'] = df['transaction_date'].dt.date\n",
    "txns_por_usuario_dia = df.groupby(['user_id', 'fecha']).agg({\n",
    "    'transaction_amount': ['count', 'sum', 'mean', 'std']\n",
    "}).reset_index()\n",
    "txns_por_usuario_dia.columns = ['user_id', 'fecha', 'num_txns', 'suma_montos', 'promedio', 'desviacion']\n",
    "\n",
    "print(\"\\nEjemplo de transacciones por usuario por día:\")\n",
    "print(txns_por_usuario_dia.sort_values(by='num_txns', ascending=False).head())\n"
   ]
  },
  {
   "cell_type": "code",
   "execution_count": 25,
   "metadata": {},
   "outputs": [
    {
     "name": "stdout",
     "output_type": "stream",
     "text": [
      "\n",
      "Posibles casos sospechosos de fraccionamiento transaccional: 11497\n",
      "                               user_id       fecha  num_txns  suma_montos  \\\n",
      "2178  000f39e1bb61ad6ea17fcc3e71dd9e01  2021-04-16         5      1890.34   \n",
      "2698  001366c2710ad30d510bf1170bb61448  2021-01-12         8      5147.90   \n",
      "4300  001ef5cba1bfcd9853731c2b9c76e108  2021-11-24         6      1034.34   \n",
      "4303  001ef5cba1bfcd9853731c2b9c76e108  2021-11-30         7      1783.34   \n",
      "5721  00294069da380bf53d0220bb6de69cff  2021-02-02         5      3566.67   \n",
      "\n",
      "      promedio  desviacion  \n",
      "2178    378.07      309.61  \n",
      "2698    643.49      197.56  \n",
      "4300    172.39       67.99  \n",
      "4303    254.76      107.41  \n",
      "5721    713.33        0.00  \n"
     ]
    }
   ],
   "source": [
    "# Umbral heurístico alto de fraccionamiento: muchas transacciones pequeñas en 1 día\n",
    "umbral_txns = 5\n",
    "umbral_monto_total = df['transaction_amount'].quantile(0.95)\n",
    "\n",
    "sospechosos = txns_por_usuario_dia[\n",
    "    (txns_por_usuario_dia['num_txns'] >= umbral_txns) &\n",
    "    (txns_por_usuario_dia['suma_montos'] >= umbral_monto_total)\n",
    "]\n",
    "\n",
    "print(f\"\\nPosibles casos sospechosos de fraccionamiento transaccional: {sospechosos.shape[0]}\")\n",
    "print(sospechosos.head())"
   ]
  },
  {
   "cell_type": "markdown",
   "metadata": {},
   "source": [
    "## Construcción modelo analítico"
   ]
  },
  {
   "cell_type": "markdown",
   "metadata": {},
   "source": [
    "Para abordar el objetivo de este problema analítico, existen varios enfoques posibles: métodos heurísticos basados en reglas, detección no supervisada mediante clustering, o modelos de puntuación de riesgo transaccional. En este caso particular, se desarrollará el modelo de datos con un enfoque heurístico."
   ]
  },
  {
   "cell_type": "markdown",
   "metadata": {},
   "source": [
    "### 1. Prouesta flujo de datos (pipeline heurístico)"
   ]
  },
  {
   "cell_type": "markdown",
   "metadata": {},
   "source": [
    "**Entrada:** Archivo de transacciones (`.parquet`) con columnas como `user_id`, `transaction_date`, `transaction_amount`, `transaction_type`.\n",
    "\n",
    "**Transformación:**\n",
    "\n",
    "1.  Convertir fechas y extraer solo día.\n",
    "2.  Agrupar transacciones por `user_id` y `fecha`.\n",
    "3.  Calcular:\n",
    "    * Número de transacciones\n",
    "    * Suma de montos\n",
    "    * Promedio\n",
    "    * Desviación estándar\n",
    "4.  Aplicar regla heurística:\n",
    "    * Si un usuario tiene $\\ge N$ transacciones en un día y la suma de los montos supera un umbral, se marca como sospechoso.\n",
    "\n",
    "**Salida:** Tabla con `user_id`, `fecha`, número de transacciones, monto total y flag de fraccionamiento sospechoso."
   ]
  },
  {
   "cell_type": "markdown",
   "metadata": {},
   "source": [
    "### 2. Modelo heurístico"
   ]
  },
  {
   "cell_type": "code",
   "execution_count": null,
   "metadata": {},
   "outputs": [],
   "source": [
    "# Paso 1: Agrupar por usuario y fecha\n",
    "df['fecha'] = df['transaction_date'].dt.date\n",
    "agrupado = df.groupby(['user_id', 'fecha']).agg(\n",
    "    num_txns=('transaction_amount', 'count'),\n",
    "    suma_montos=('transaction_amount', 'sum'),\n",
    "    promedio=('transaction_amount', 'mean'),\n",
    "    desviacion=('transaction_amount', 'std')\n",
    ").reset_index()"
   ]
  },
  {
   "cell_type": "code",
   "execution_count": 27,
   "metadata": {},
   "outputs": [],
   "source": [
    "# Paso 2: Definir umbrales\n",
    "umbral_txns = 5  # mínimo de transacciones en un mismo día\n",
    "umbral_monto = df['transaction_amount'].quantile(0.95)  # suma de montos sospechosa"
   ]
  },
  {
   "cell_type": "code",
   "execution_count": 28,
   "metadata": {},
   "outputs": [],
   "source": [
    "# Paso 3: Aplicar reglas heurísticas\n",
    "agrupado['sospechoso'] = (\n",
    "    (agrupado['num_txns'] >= umbral_txns) &\n",
    "    (agrupado['suma_montos'] >= umbral_monto)\n",
    ")"
   ]
  },
  {
   "cell_type": "code",
   "execution_count": 29,
   "metadata": {},
   "outputs": [
    {
     "name": "stdout",
     "output_type": "stream",
     "text": [
      "Casos sospechosos detectados: 11497\n",
      "                               user_id       fecha  num_txns  suma_montos  \\\n",
      "2178  000f39e1bb61ad6ea17fcc3e71dd9e01  2021-04-16         5      1890.34   \n",
      "2698  001366c2710ad30d510bf1170bb61448  2021-01-12         8      5147.90   \n",
      "4300  001ef5cba1bfcd9853731c2b9c76e108  2021-11-24         6      1034.34   \n",
      "4303  001ef5cba1bfcd9853731c2b9c76e108  2021-11-30         7      1783.34   \n",
      "5721  00294069da380bf53d0220bb6de69cff  2021-02-02         5      3566.67   \n",
      "\n",
      "      promedio  desviacion  sospechoso  \n",
      "2178    378.07      309.61        True  \n",
      "2698    643.49      197.56        True  \n",
      "4300    172.39       67.99        True  \n",
      "4303    254.76      107.41        True  \n",
      "5721    713.33        0.00        True  \n"
     ]
    }
   ],
   "source": [
    "# Paso 4: Filtrar los casos sospechosos\n",
    "casos_sospechosos = agrupado[agrupado['sospechoso'] == True]\n",
    "\n",
    "print(f\"Casos sospechosos detectados: {casos_sospechosos.shape[0]}\")\n",
    "print(casos_sospechosos.head())"
   ]
  },
  {
   "cell_type": "markdown",
   "metadata": {},
   "source": [
    "### 3. Recomendación frecuencia de actualización"
   ]
  },
  {
   "cell_type": "markdown",
   "metadata": {},
   "source": [
    "La frecuencia de actualizaión se seguiere que sea diaria, ya que el faccionamiento transaccional ocurre tipicamente dentro de ventanas de 24 horas, al igual que este monitoreo diario permite detectar patrones antes de que escalen, permitiendo enviar alertas tempranas a áreas de control interno. Con herramientas como Airflow, se puede ejecutar un pipeline diario que lea del `.parquet`, aplique las reglas y guarde los casos sospechosos en un dashboard o tabla de monitoreo."
   ]
  },
  {
   "cell_type": "markdown",
   "metadata": {},
   "source": [
    "### 4. Recomendaciones para extensión del modeloo"
   ]
  },
  {
   "cell_type": "markdown",
   "metadata": {},
   "source": [
    "Consideraciones a tener en cuenta para comprender de manera más detallada y acertiva las cuentas identificadas como sospechosas:\n",
    "\n",
    "* Calcular \"riesgo de fraccionamiento\" como una **puntuación escalada entre 0 y 1**.\n",
    "\n",
    "* Incorporar features adicionales:\n",
    "    * ¿Ocurre en la misma `subsidiary`?\n",
    "    * ¿A un mismo `merchant_id`?\n",
    "    * ¿Repite el comportamiento en varios días?\n",
    "\n",
    "* Aplicar métodos no supervisados como `Isolation Forest` o `DBSCAN` sobre features construidas."
   ]
  }
 ],
 "metadata": {
  "kernelspec": {
   "display_name": "Python 3",
   "language": "python",
   "name": "python3"
  },
  "language_info": {
   "codemirror_mode": {
    "name": "ipython",
    "version": 3
   },
   "file_extension": ".py",
   "mimetype": "text/x-python",
   "name": "python",
   "nbconvert_exporter": "python",
   "pygments_lexer": "ipython3",
   "version": "3.11.5"
  }
 },
 "nbformat": 4,
 "nbformat_minor": 2
}
